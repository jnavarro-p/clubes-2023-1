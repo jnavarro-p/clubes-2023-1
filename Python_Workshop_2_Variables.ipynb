{
  "cells": [
    {
      "cell_type": "markdown",
      "metadata": {
        "id": "pw9ZS15U3gGG"
      },
      "source": [
        "# Variables in Python\n",
        "\n",
        "- Variables help us store numbers and values in our programs\n",
        "- The basic idea is the same as using variables in math. Solving an algebraic equation in terms of x and y instead of their values lets us re-use the solution for multiple values of x and y\n",
        "- Similarly, using variables in programs helps us make our programs easy to use\n",
        "- Variables store particular values of data types"
      ]
    },
    {
      "cell_type": "markdown",
      "metadata": {
        "id": "3QGmzSHN3gGS"
      },
      "source": [
        "## Data types\n",
        "\n",
        "What is a data type? In Python, a data type is the computer's way of keeping track of the kind of information being stored.\n",
        "\n",
        "* Consider the way you might respond to the following prompts:\n",
        "\n",
        "  1. **Do you want a piece of toast?**\n",
        "\n",
        "    * This is likely answered with a yes or a no.\n",
        "\n",
        "  2. **How many cows did you see on your drive to the mountains?**\n",
        "\n",
        "    * The response here is probably a number. You can't see half a cow, so it's probably a whole number!\n",
        "\n",
        "  3. **How many liters of water does the average human drink a day?**\n",
        "\n",
        "    * This answer will also be a number, but could include a fractional part. For example, you may drink 3.5 liters of water in a day. That's a lot of water!\n",
        "\n",
        "  4. **Write one sentence explaining how life on Earth began.**\n",
        "\n",
        "    * This will be a full sentence!\n",
        "\n",
        "\n",
        "* In Python, we have different built-in data types that allow us to represent the responses to these sorts of questions."
      ]
    },
    {
      "cell_type": "markdown",
      "metadata": {
        "id": "jNsKRyAB3gGS"
      },
      "source": [
        "### Integers\n",
        "Integers are a whole numbers. For instance, 4, 5, and 10000 are integers. We can check they are integers in Python with the following:"
      ]
    },
    {
      "cell_type": "code",
      "execution_count": null,
      "metadata": {
        "id": "ArD_kXVj3gGT",
        "colab": {
          "base_uri": "https://localhost:8080/"
        },
        "outputId": "fefb3f2d-3fff-4a1e-d45b-0150a8864a92"
      },
      "outputs": [
        {
          "output_type": "stream",
          "name": "stdout",
          "text": [
            "<class 'int'>\n"
          ]
        }
      ],
      "source": [
        "print( type(4) )"
      ]
    },
    {
      "cell_type": "markdown",
      "metadata": {
        "id": "jkVGohAV3gGT"
      },
      "source": [
        "> Here, `type()`, with parenthesis to the right, tell us the type of the data we put inside those parenthesis. Above, Python has told us that `4` is an `'int'` or integer, which is what we expected."
      ]
    },
    {
      "cell_type": "markdown",
      "source": [
        "Negative whole numbers as also valid integers!"
      ],
      "metadata": {
        "id": "1vq3-Dejmdnh"
      }
    },
    {
      "cell_type": "code",
      "source": [
        "print(type(-1))"
      ],
      "metadata": {
        "id": "AZvRfUWGmhlK"
      },
      "execution_count": null,
      "outputs": []
    },
    {
      "cell_type": "markdown",
      "metadata": {
        "id": "m4RCQgI33gGT"
      },
      "source": [
        "### Floats"
      ]
    },
    {
      "cell_type": "markdown",
      "metadata": {
        "id": "VhqSXQzi3gGU"
      },
      "source": [
        "Let's try out `type` on other things we've seen."
      ]
    },
    {
      "cell_type": "code",
      "execution_count": null,
      "metadata": {
        "id": "ZADkFwq-3gGU"
      },
      "outputs": [],
      "source": [
        "print(type(2.5))"
      ]
    },
    {
      "cell_type": "markdown",
      "metadata": {
        "id": "J548OLDg3gGU"
      },
      "source": [
        "Here, Python is telling us `2.5` is a float. A float is basically any number that isn't zero after the decimal places, i.e. not a whole number.\n",
        "\n",
        "If we try to divide two integers and the result is not a whole number, Python will make the result into a float."
      ]
    },
    {
      "cell_type": "code",
      "execution_count": null,
      "metadata": {
        "id": "kMNQIQvE3gGV"
      },
      "outputs": [],
      "source": [
        "print(type(3 / 4))"
      ]
    },
    {
      "cell_type": "markdown",
      "source": [
        "This makes sense because `3/4` is not a whole number:"
      ],
      "metadata": {
        "id": "GHYvV-AzmQ4q"
      }
    },
    {
      "cell_type": "code",
      "source": [
        "print(3 / 4)"
      ],
      "metadata": {
        "id": "-ZQkjA-fmVLq"
      },
      "execution_count": null,
      "outputs": []
    },
    {
      "cell_type": "markdown",
      "metadata": {
        "id": "fNBLTQOd3gGV"
      },
      "source": [
        "If we add together an interger and float, the result will also be a float:"
      ]
    },
    {
      "cell_type": "code",
      "execution_count": null,
      "metadata": {
        "id": "OmLjiftr3gGV"
      },
      "outputs": [],
      "source": [
        "print(1 + 2.4)\n",
        "print(type(1 + 2.4))"
      ]
    },
    {
      "cell_type": "markdown",
      "source": [
        "**Exercise**: what will be the type of `1.0 + 1`? Write some code below to find out."
      ],
      "metadata": {
        "id": "T2qUWfuMneS-"
      }
    },
    {
      "cell_type": "code",
      "source": [
        "# your code here"
      ],
      "metadata": {
        "id": "4UFuuSEfnnup"
      },
      "execution_count": null,
      "outputs": []
    },
    {
      "cell_type": "markdown",
      "metadata": {
        "id": "c32lPmo13gGV"
      },
      "source": [
        "### Strings\n",
        "Let's try finding the type of `\"Hello, world!\"`, which we printed earlier:"
      ]
    },
    {
      "cell_type": "code",
      "execution_count": null,
      "metadata": {
        "id": "kv7T9QYO3gGW"
      },
      "outputs": [],
      "source": [
        "print( type(\"Hello, world!\") )"
      ]
    },
    {
      "cell_type": "markdown",
      "metadata": {
        "id": "ZxNTsNPX3gGW"
      },
      "source": [
        "Here, Python is telling us that `\"Hello, world!\"` is a string. Strings can contain numbers, letters, spaces, or punctuation like this:"
      ]
    },
    {
      "cell_type": "code",
      "execution_count": null,
      "metadata": {
        "id": "18raN3bB3gGW"
      },
      "outputs": [],
      "source": [
        "print(\"H3llo!\")"
      ]
    },
    {
      "cell_type": "code",
      "execution_count": null,
      "metadata": {
        "id": "mMhTkJpf3gGW"
      },
      "outputs": [],
      "source": [
        "print(\"So nice to meet you!\")"
      ]
    },
    {
      "cell_type": "markdown",
      "metadata": {
        "id": "5iypDTGj3gGX"
      },
      "source": [
        "Notice that strings always begin and end with quotes. The quotes can be single or double, but must match:"
      ]
    },
    {
      "cell_type": "code",
      "execution_count": null,
      "metadata": {
        "id": "kkntf7dl3gGX"
      },
      "outputs": [],
      "source": [
        "print(\"valid string\")"
      ]
    },
    {
      "cell_type": "code",
      "execution_count": null,
      "metadata": {
        "id": "WYCcZE-s3gGX"
      },
      "outputs": [],
      "source": [
        "print('valid string')"
      ]
    },
    {
      "cell_type": "markdown",
      "metadata": {
        "id": "FYUWhekn3gGX"
      },
      "source": [
        "Python won't like the following code because the quotes in the string don't match:"
      ]
    },
    {
      "cell_type": "code",
      "execution_count": null,
      "metadata": {
        "id": "v3N3e-yd3gGX"
      },
      "outputs": [],
      "source": [
        "print('this will break\")"
      ]
    },
    {
      "cell_type": "markdown",
      "source": [
        "**Exercise**: What will be printed when we run the following code?"
      ],
      "metadata": {
        "id": "jfgUIokPm3T-"
      }
    },
    {
      "cell_type": "code",
      "source": [
        "print(type('3'))"
      ],
      "metadata": {
        "id": "ox9Kf1GgnDi7"
      },
      "execution_count": null,
      "outputs": []
    },
    {
      "cell_type": "markdown",
      "metadata": {
        "id": "xTkp7z9V3gGY"
      },
      "source": [
        "Strings very handily can be added together. The result is a longer string that is made up of the two strings connected together:"
      ]
    },
    {
      "cell_type": "code",
      "execution_count": null,
      "metadata": {
        "id": "lrNQqBpB3gGY"
      },
      "outputs": [],
      "source": [
        "print('thing 1 ' + 'thing 2')"
      ]
    },
    {
      "cell_type": "code",
      "source": [
        "print('4' + '5')"
      ],
      "metadata": {
        "id": "3ZZXQl6-EfBm"
      },
      "execution_count": null,
      "outputs": []
    },
    {
      "cell_type": "markdown",
      "source": [
        "## ** side note: printing strings with variable values **\n",
        "\n",
        "Sometimes it is useful to print a string but fill in a value with a variable. For example if you want to print the current time. You can do this with f-strings:\n",
        "\n",
        "- put an 'f' before your string\n",
        "- Where you want to put a variable, place it in curly brackets {}"
      ],
      "metadata": {
        "id": "anGa7iMHlSDY"
      }
    },
    {
      "cell_type": "code",
      "source": [
        "t = '12 pm'\n",
        "print(f'Current time: {t}')"
      ],
      "metadata": {
        "colab": {
          "base_uri": "https://localhost:8080/"
        },
        "id": "WzyL8wmslwrS",
        "outputId": "bfa7c97f-a134-497b-938a-a5bac774ee01"
      },
      "execution_count": null,
      "outputs": [
        {
          "output_type": "stream",
          "name": "stdout",
          "text": [
            "Current time: 12 pm\n"
          ]
        }
      ]
    },
    {
      "cell_type": "markdown",
      "source": [
        "Notice how, even though 4 and 5 are numbers, they are treated as strings when there are quotes around them (`\"4\"` and `\"5\"`). Because they are both strings, they have the same `type`, and Python can still understand what it means to add them together.\n",
        "\n",
        "However, this is a very different outcome from the mathematical process of 4 + 5 = 9, which only works when 4 and 5 are treated as integers. To illustrate:"
      ],
      "metadata": {
        "id": "Zbeohx1KEpNn"
      }
    },
    {
      "cell_type": "code",
      "source": [
        "print(4 + 5)"
      ],
      "metadata": {
        "id": "aeaskS_DOAgz"
      },
      "execution_count": null,
      "outputs": []
    },
    {
      "cell_type": "markdown",
      "metadata": {
        "id": "RGjyAMnM3gGY"
      },
      "source": [
        "If we try to add a string and a number, here's what happens:"
      ]
    },
    {
      "cell_type": "code",
      "execution_count": null,
      "metadata": {
        "id": "_gj5EArR3gGY"
      },
      "outputs": [],
      "source": [
        "print(4 + '5')\n"
      ]
    },
    {
      "cell_type": "markdown",
      "metadata": {
        "id": "oi4EXEqI3gGZ"
      },
      "source": [
        "We can't add integers or floats to strings!"
      ]
    },
    {
      "cell_type": "markdown",
      "metadata": {
        "id": "TmoUz-oG3gGZ"
      },
      "source": [
        "### Booleans"
      ]
    },
    {
      "cell_type": "markdown",
      "metadata": {
        "id": "m8qQwo7d3gGZ"
      },
      "source": [
        "The last type of data we need to worry about is the boolean. Booleans only have two possible values, `True` or `False`."
      ]
    },
    {
      "cell_type": "code",
      "execution_count": null,
      "metadata": {
        "id": "QTgZRPCl3gGZ"
      },
      "outputs": [],
      "source": [
        "print(type(True))"
      ]
    },
    {
      "cell_type": "markdown",
      "metadata": {
        "id": "9-jBotzr3gGZ"
      },
      "source": [
        "Booleans (or bools) come in handy when we went to check if something is true or false. For instance:"
      ]
    },
    {
      "cell_type": "code",
      "execution_count": null,
      "metadata": {
        "id": "d1ql0Cfu3gGZ"
      },
      "outputs": [],
      "source": [
        "print(5 > 3)"
      ]
    },
    {
      "cell_type": "markdown",
      "metadata": {
        "id": "o9pSq3Io3gGa"
      },
      "source": [
        "Above, `>` checks to see if the lefthand side is strictly greater than the right. Let's try checking the type of what Python is returning:"
      ]
    },
    {
      "cell_type": "code",
      "execution_count": null,
      "metadata": {
        "id": "MsPVNG9v3gGa"
      },
      "outputs": [],
      "source": [
        "print(type(5 > 3))"
      ]
    },
    {
      "cell_type": "markdown",
      "metadata": {
        "id": "Y_YNJHNS3gGa"
      },
      "source": [
        "Surprise, it's a bool!"
      ]
    },
    {
      "cell_type": "markdown",
      "metadata": {
        "id": "4Em2rhye3gGa"
      },
      "source": [
        "`>` is not the only mathematical operation that produces a bool:"
      ]
    },
    {
      "cell_type": "code",
      "execution_count": null,
      "metadata": {
        "id": "ZGLYuQEn3gGa"
      },
      "outputs": [],
      "source": [
        "print(4 >= 4)\n",
        "print(3 == 2)\n",
        "print(3 == 3)\n",
        "print(1 < 0.5)"
      ]
    },
    {
      "cell_type": "markdown",
      "source": [
        "> `>=` indicates \"greater than or equal to.\"\n",
        ">\n",
        "> `==` indicates \"equal to.\" Notice that we need a \"double equals\" sign to ask for a comparison. You'll see why in a little bit.\n",
        ">\n",
        "> `<` indicates \"strictly less than.\"\n"
      ],
      "metadata": {
        "id": "SO1VijK7n-mS"
      }
    },
    {
      "cell_type": "markdown",
      "source": [
        "We can also change `True` to `False` and `False` to `True` with `not`:"
      ],
      "metadata": {
        "id": "zVutKgUDnUjJ"
      }
    },
    {
      "cell_type": "code",
      "source": [
        "print(not False)\n",
        "print(not True)"
      ],
      "metadata": {
        "id": "G_pE877onR3-"
      },
      "execution_count": null,
      "outputs": []
    },
    {
      "cell_type": "markdown",
      "source": [
        "**Exercise**: what will the following code print?"
      ],
      "metadata": {
        "id": "BTspQyfLoUYU"
      }
    },
    {
      "cell_type": "code",
      "source": [
        "print(not (4==4))"
      ],
      "metadata": {
        "id": "9cq4LbiAoYHJ"
      },
      "execution_count": null,
      "outputs": []
    },
    {
      "cell_type": "markdown",
      "source": [
        "This will turn out to be very handy later!\n",
        "\n",
        "The final operations we can perform on Booleans are `and` and `or`.\n",
        "\n",
        "* `and` takes two Booleans and returns `True` if both inputs are `True` but otherwise returns `False`.\n",
        "\n"
      ],
      "metadata": {
        "id": "sDhwnOyInmxN"
      }
    },
    {
      "cell_type": "code",
      "source": [
        "print('True and True is:', True and True)\n",
        "print('True and False is:', True and False)\n",
        "print('False and True is:', False and True)\n",
        "print('False and False is:', False and False)"
      ],
      "metadata": {
        "id": "-zdqYpuWnuuR"
      },
      "execution_count": null,
      "outputs": []
    },
    {
      "cell_type": "markdown",
      "source": [
        "> Here, we've used an additional trick, which is that `print` will let us print two separate things if we separate them with a comma."
      ],
      "metadata": {
        "id": "T1gSABl3pP0V"
      }
    },
    {
      "cell_type": "markdown",
      "source": [
        "* `or` returns `True` if either one or both of the inputs are `True` but otherwise returns `False`."
      ],
      "metadata": {
        "id": "S-EbJCjtohlJ"
      }
    },
    {
      "cell_type": "code",
      "source": [
        "print('True or True is:', True or True)\n",
        "print('True or False is:', True or False)\n",
        "print('False or True is:', False or True)\n",
        "print('False or False is:', False or False)"
      ],
      "metadata": {
        "id": "YdFQGJieoiiM"
      },
      "execution_count": null,
      "outputs": []
    },
    {
      "cell_type": "markdown",
      "source": [
        "**Exercise**: What will be printed when we run this code? *Hint*: first evaluate things in paranthesis, then tackle the `and`"
      ],
      "metadata": {
        "id": "Q4YvNlFdoUsF"
      }
    },
    {
      "cell_type": "code",
      "source": [
        "print((not False) and (4 > 3))"
      ],
      "metadata": {
        "id": "5iASHJ6MphBI"
      },
      "execution_count": null,
      "outputs": []
    },
    {
      "cell_type": "markdown",
      "source": [
        "## A comment on comments\n",
        "In Python, a comment is text that goes in a code block but that is not run by the computer. In Python, comments begin with a hashtag. Everything after the hashtag on that line will not be run.\n"
      ],
      "metadata": {
        "id": "YfIrkekbXml-"
      }
    },
    {
      "cell_type": "code",
      "source": [
        "# This is a comment. It will not be run.\n",
        "print('This will be printed!')"
      ],
      "metadata": {
        "id": "lCZzH2fwX_ZO"
      },
      "execution_count": null,
      "outputs": []
    },
    {
      "cell_type": "markdown",
      "metadata": {
        "id": "myuqsLwD3gGb"
      },
      "source": [
        "## Variables"
      ]
    },
    {
      "cell_type": "markdown",
      "metadata": {
        "id": "2CKSW3My3gGb"
      },
      "source": [
        "What we've learned so far is that Python can be a fancy calculator that can also add together strings, but it's much more than that. To make Python really useful, we need to get it to remember things about the past. We do this with **variables**.\n",
        "\n",
        "Variables are just like variables from algebra. We give them a name and assign them a value like this:"
      ]
    },
    {
      "cell_type": "code",
      "execution_count": null,
      "metadata": {
        "id": "uOleiSjd3gGb"
      },
      "outputs": [],
      "source": [
        "x = 5"
      ]
    },
    {
      "cell_type": "markdown",
      "metadata": {
        "id": "bVTukBJg3gGb"
      },
      "source": [
        "Here, `x` is the variable name, and we've assigned it the value `5`. Notice that we're using the \"single equals\" sign to assign values to variables, that's why we needed to use \"double equals\" to compare values earlier.\n",
        "\n",
        "Now we can `print(x)` to see what value it holds:"
      ]
    },
    {
      "cell_type": "code",
      "execution_count": null,
      "metadata": {
        "id": "frEVf5v_3gGb"
      },
      "outputs": [],
      "source": [
        "x = 5\n",
        "print(x)"
      ]
    },
    {
      "cell_type": "markdown",
      "metadata": {
        "id": "Nn0SBgtT3gGc"
      },
      "source": [
        "`x` will now behave like any regular integer that we've used before:"
      ]
    },
    {
      "cell_type": "code",
      "execution_count": null,
      "metadata": {
        "id": "Alaf9pQa3gGc"
      },
      "outputs": [],
      "source": [
        "x = 5\n",
        "print(x + 1)"
      ]
    },
    {
      "cell_type": "code",
      "execution_count": null,
      "metadata": {
        "id": "DnjrJR773gGc"
      },
      "outputs": [],
      "source": [
        "x = 5\n",
        "print(20 / x)"
      ]
    },
    {
      "cell_type": "markdown",
      "metadata": {
        "id": "CCRZ36x73gGc"
      },
      "source": [
        "If we like, we can check the `type` of `x`, just like we did with numbers before:"
      ]
    },
    {
      "cell_type": "code",
      "execution_count": null,
      "metadata": {
        "id": "T_R2HdHF3gGc"
      },
      "outputs": [],
      "source": [
        "x = 5\n",
        "print(type(x))"
      ]
    },
    {
      "cell_type": "markdown",
      "metadata": {
        "id": "GBZESQYx3gGd"
      },
      "source": [
        "We can even reassign the value of `x`:"
      ]
    },
    {
      "cell_type": "code",
      "execution_count": null,
      "metadata": {
        "id": "oqH9DRDJ3gGd"
      },
      "outputs": [],
      "source": [
        "x = 5\n",
        "x = 9\n",
        "print(x)"
      ]
    },
    {
      "cell_type": "markdown",
      "source": [
        "> **Exercise**: Guess what value `x` will have after the following code is run:"
      ],
      "metadata": {
        "id": "XZ1WKREHRgpD"
      }
    },
    {
      "cell_type": "code",
      "execution_count": null,
      "metadata": {
        "id": "-3PA4YNP3gGd"
      },
      "outputs": [],
      "source": [
        "x = 3\n",
        "x = x + 1\n",
        "print(x)"
      ]
    },
    {
      "cell_type": "markdown",
      "source": [
        "> Note that we can safely define a variable in terms of itself. Each time we do this, we overwrite the old value of the variable with a new one.\n",
        "\n",
        "**Exercise**: Guess what value `y` will have below:"
      ],
      "metadata": {
        "id": "NGTiAidtYaZ9"
      }
    },
    {
      "cell_type": "code",
      "source": [
        "x = 3\n",
        "y = x + 2\n",
        "x = 5 # does changing x affect y?\n",
        "print(y)"
      ],
      "metadata": {
        "id": "lw4rvKg6Yo8I"
      },
      "execution_count": null,
      "outputs": []
    },
    {
      "cell_type": "markdown",
      "source": [
        "**Exercise**: Can the type of `x` change? Guess what type of data `x` will be after the following code runs:"
      ],
      "metadata": {
        "id": "L3FX6wgHSATn"
      }
    },
    {
      "cell_type": "code",
      "source": [
        "x = 3\n",
        "x = x / 2\n",
        "print(type(x))"
      ],
      "metadata": {
        "id": "PTGBTgs2SOi4"
      },
      "execution_count": null,
      "outputs": []
    },
    {
      "cell_type": "markdown",
      "source": [
        "Variable names in Python can contain letters, numbers, and underscores."
      ],
      "metadata": {
        "id": "Y08uYYqHVMVL"
      }
    },
    {
      "cell_type": "code",
      "source": [
        "valid_variable_name = 1"
      ],
      "metadata": {
        "id": "dl9wSXi6VcW0"
      },
      "execution_count": null,
      "outputs": []
    },
    {
      "cell_type": "markdown",
      "source": [
        "Variable names cannot start with a number. Try running the code below:"
      ],
      "metadata": {
        "id": "VXlQ8ezAVm_4"
      }
    },
    {
      "cell_type": "code",
      "source": [
        "12_invalid_name = 5"
      ],
      "metadata": {
        "id": "yrnqPGiGVfOO"
      },
      "execution_count": null,
      "outputs": []
    },
    {
      "cell_type": "markdown",
      "source": [
        "**Exercise**: The first six digits of the Fibonacci sequence are:\n",
        "\n",
        "> 0, 1, 1, 2, 3, 5\n",
        "\n",
        "Each element of the sequence is produced by adding together the two numbers that came just before it.\n",
        "\n",
        "Try printing the first six numbers of the Fibonacci sequence without using any numbers except the ones defined as `fib_0` and `fib_1` below. Instead try defining new varibles in terms of the previous ones."
      ],
      "metadata": {
        "id": "uXspfBxwWFxs"
      }
    },
    {
      "cell_type": "code",
      "source": [
        "fib_0 = 0\n",
        "fib_1 = 1\n",
        "fib_2 = fib_0 + fib_1\n",
        "# write code that defines fib_3 and fib_4 in terms of fib_1 and fib_2\n",
        "\n",
        "print(fib_0)\n",
        "print(fib_1)\n",
        "print(fib_2)\n",
        "print(fib_3)\n",
        "print(fib_4)"
      ],
      "metadata": {
        "id": "_DX8hNLSViVA"
      },
      "execution_count": null,
      "outputs": []
    }
  ],
  "metadata": {
    "kernelspec": {
      "display_name": "Python 3",
      "language": "python",
      "name": "python3"
    },
    "language_info": {
      "codemirror_mode": {
        "name": "ipython",
        "version": 3
      },
      "file_extension": ".py",
      "mimetype": "text/x-python",
      "name": "python",
      "nbconvert_exporter": "python",
      "pygments_lexer": "ipython3",
      "version": "3.7.6"
    },
    "colab": {
      "provenance": []
    }
  },
  "nbformat": 4,
  "nbformat_minor": 0
}